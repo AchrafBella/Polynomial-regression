{
 "cells": [
  {
   "cell_type": "code",
   "execution_count": 1,
   "id": "2767ef72",
   "metadata": {},
   "outputs": [],
   "source": [
    "# read the data\n",
    "with open('survey_data.txt') as file:\n",
    "    data = file.readlines()"
   ]
  },
  {
   "cell_type": "code",
   "execution_count": 2,
   "id": "00be44d5",
   "metadata": {},
   "outputs": [],
   "source": [
    "# split the train set and the test set\n",
    "train = data[1:101] \n",
    "test = data[102:]"
   ]
  },
  {
   "cell_type": "code",
   "execution_count": 3,
   "id": "9729a500",
   "metadata": {},
   "outputs": [],
   "source": [
    "# formatting the data\n",
    "train = list(map(lambda x:x.strip().split(' '), train))\n",
    "test = list(map(lambda x:x.strip().split(' '), test))"
   ]
  },
  {
   "cell_type": "code",
   "execution_count": 4,
   "id": "dfc74a8d",
   "metadata": {},
   "outputs": [],
   "source": [
    "# extract features & target\n",
    "X = list(map(lambda x:x[:2], train)) \n",
    "y = list(map(lambda x:x[-1],train))"
   ]
  },
  {
   "cell_type": "code",
   "execution_count": 8,
   "id": "f9b8a907",
   "metadata": {},
   "outputs": [],
   "source": [
    "# convert string to float\n",
    "X = list(map(lambda x:[float(x[0]), float(x[1])], X)) \n",
    "y = list(map(lambda x:[float(x)], y)) \n",
    "\n",
    "test = list(map(lambda x:[float(x[0]), float(x[1])], test)) "
   ]
  },
  {
   "cell_type": "code",
   "execution_count": 10,
   "id": "d1296019",
   "metadata": {},
   "outputs": [],
   "source": [
    "from sklearn.preprocessing import PolynomialFeatures\n",
    "import numpy as np\n",
    "\n",
    "from sklearn import linear_model\n",
    "train_x = np.asanyarray(X)\n",
    "train_y = np.asanyarray(y)\n",
    "\n",
    "poly = PolynomialFeatures(degree=4)\n",
    "train_x_poly = poly.fit_transform(train_x)"
   ]
  },
  {
   "cell_type": "code",
   "execution_count": 11,
   "id": "03f4ac24",
   "metadata": {},
   "outputs": [
    {
     "name": "stdout",
     "output_type": "stream",
     "text": [
      "Coefficients:  [[   0.          145.79131953  129.64186222  225.41186697  543.91011688\n",
      "   246.87377903  143.39218103  121.35494553  -66.13375016 -191.824794\n",
      "   -15.4052846    -9.2466974    75.48433544  118.58905663   87.22174701]]\n",
      "Intercept:  [38.29123505]\n"
     ]
    }
   ],
   "source": [
    "clf = linear_model.LinearRegression()\n",
    "train_y_ = clf.fit(train_x_poly, train_y)\n",
    "# The coefficients\n",
    "print ('Coefficients: ', clf.coef_)\n",
    "print ('Intercept: ',clf.intercept_)"
   ]
  },
  {
   "cell_type": "code",
   "execution_count": 14,
   "id": "2fc03cd0",
   "metadata": {},
   "outputs": [
    {
     "name": "stdout",
     "output_type": "stream",
     "text": [
      "[180.24142417] [1311.5557654] [440.57819319] [344.10194561]\n"
     ]
    }
   ],
   "source": [
    "test = np.asanyarray(test)\n",
    "print(*clf.predict(poly.transform(test)), sep=' ')"
   ]
  }
 ],
 "metadata": {
  "kernelspec": {
   "display_name": "Python 3 (ipykernel)",
   "language": "python",
   "name": "python3"
  },
  "language_info": {
   "codemirror_mode": {
    "name": "ipython",
    "version": 3
   },
   "file_extension": ".py",
   "mimetype": "text/x-python",
   "name": "python",
   "nbconvert_exporter": "python",
   "pygments_lexer": "ipython3",
   "version": "3.9.12"
  }
 },
 "nbformat": 4,
 "nbformat_minor": 5
}
